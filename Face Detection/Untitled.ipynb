{
 "cells": [
  {
   "cell_type": "code",
   "execution_count": 1,
   "metadata": {},
   "outputs": [],
   "source": [
    "import numpy as np\n",
    "import cv2 as cv\n",
    "import matplotlib.pyplot as plt\n",
    "%matplotlib inline\n",
    "import math\n",
    "import pandas as pd\n",
    "import seaborn as sns\n",
    "import glob\n",
    "import cv2\n",
    "import re\n",
    "import os\n",
    "from sklearn.model_selection import train_test_split\n",
    "import statsmodels.api as sm\n",
    "import statsmodels.formula.api as smf"
   ]
  },
  {
   "cell_type": "code",
   "execution_count": 2,
   "metadata": {},
   "outputs": [
    {
     "data": {
      "text/plain": [
       "197"
      ]
     },
     "execution_count": 2,
     "metadata": {},
     "output_type": "execute_result"
    }
   ],
   "source": [
    "names=os.listdir('./detected_img/')#it will get on the images names from a directory\n",
    "string = ''.join(names)\n",
    "result=re.findall(r'(\\d)_\\d*_',string)\n",
    "face = list(map(int, result))\n",
    "len(face)"
   ]
  },
  {
   "cell_type": "code",
   "execution_count": 3,
   "metadata": {},
   "outputs": [],
   "source": [
    "#Here I have a about 200 images in the below folder 'train' glob will get all the images from folder here\n",
    "path = glob.glob('./detected_img/*.jpeg')\n",
    "image=[]\n",
    "for img in path:\n",
    "    v = cv.imread(img) #It will loads all the images from a file\n",
    "    blur = cv.GaussianBlur(v,(5,5),0)\n",
    "    gray = cv.cvtColor(blur,cv.COLOR_BGR2GRAY)# here changing  color image to gray scale\n",
    "    image.append(gray)"
   ]
  },
  {
   "cell_type": "code",
   "execution_count": 4,
   "metadata": {},
   "outputs": [],
   "source": [
    "pic = []\n",
    "for i in image:\n",
    "    #v = cv.imread(img)\n",
    "    #gray = cv.cvtColor(i,cv.COLOR_BGR2GRAY)# here changing  color image to gray scale\n",
    "    gray = cv2.resize(i,(64,64))\n",
    "    pic.append(gray)"
   ]
  },
  {
   "cell_type": "code",
   "execution_count": 5,
   "metadata": {},
   "outputs": [
    {
     "ename": "ValueError",
     "evalue": "too many values to unpack (expected 2)",
     "output_type": "error",
     "traceback": [
      "\u001b[0;31m---------------------------------------------------------------------------\u001b[0m",
      "\u001b[0;31mValueError\u001b[0m                                Traceback (most recent call last)",
      "\u001b[0;32m<ipython-input-5-03588573b90f>\u001b[0m in \u001b[0;36m<module>\u001b[0;34m()\u001b[0m\n\u001b[1;32m      3\u001b[0m \u001b[0mevals\u001b[0m\u001b[0;34m,\u001b[0m \u001b[0mevecs\u001b[0m \u001b[0;34m=\u001b[0m \u001b[0mnp\u001b[0m\u001b[0;34m.\u001b[0m\u001b[0mlinalg\u001b[0m\u001b[0;34m.\u001b[0m\u001b[0meig\u001b[0m\u001b[0;34m(\u001b[0m\u001b[0mgray\u001b[0m\u001b[0;34m)\u001b[0m \u001b[0;31m#creating eigen values and eigen vectors\u001b[0m\u001b[0;34m\u001b[0m\u001b[0;34m\u001b[0m\u001b[0m\n\u001b[1;32m      4\u001b[0m \u001b[0msort_indices\u001b[0m \u001b[0;34m=\u001b[0m\u001b[0mnp\u001b[0m\u001b[0;34m.\u001b[0m\u001b[0margsort\u001b[0m\u001b[0;34m(\u001b[0m\u001b[0mgray\u001b[0m\u001b[0;34m)\u001b[0m\u001b[0;34m[\u001b[0m\u001b[0;34m:\u001b[0m\u001b[0;34m:\u001b[0m\u001b[0;34m-\u001b[0m\u001b[0;36m1\u001b[0m\u001b[0;34m]\u001b[0m \u001b[0;31m# index sorting & inversing [::-1]\u001b[0m\u001b[0;34m\u001b[0m\u001b[0;34m\u001b[0m\u001b[0m\n\u001b[0;32m----> 5\u001b[0;31m \u001b[0mx_v1\u001b[0m\u001b[0;34m,\u001b[0m\u001b[0my_v1\u001b[0m \u001b[0;34m=\u001b[0m \u001b[0mevecs\u001b[0m\u001b[0;34m[\u001b[0m\u001b[0;34m:\u001b[0m\u001b[0;34m,\u001b[0m \u001b[0msort_indices\u001b[0m\u001b[0;34m[\u001b[0m\u001b[0;36m0\u001b[0m\u001b[0;34m]\u001b[0m\u001b[0;34m]\u001b[0m  \u001b[0;31m# Eigenvector with largest eigenvalue\u001b[0m\u001b[0;34m\u001b[0m\u001b[0;34m\u001b[0m\u001b[0m\n\u001b[0m\u001b[1;32m      6\u001b[0m \u001b[0mx_v2\u001b[0m\u001b[0;34m,\u001b[0m\u001b[0my_v2\u001b[0m \u001b[0;34m=\u001b[0m \u001b[0mevecs\u001b[0m\u001b[0;34m[\u001b[0m\u001b[0;34m:\u001b[0m\u001b[0;34m,\u001b[0m \u001b[0msort_indices\u001b[0m\u001b[0;34m[\u001b[0m\u001b[0;36m1\u001b[0m\u001b[0;34m]\u001b[0m\u001b[0;34m]\u001b[0m  \u001b[0;31m# Eigenvector with lowest eigenvalue\u001b[0m\u001b[0;34m\u001b[0m\u001b[0;34m\u001b[0m\u001b[0m\n",
      "\u001b[0;31mValueError\u001b[0m: too many values to unpack (expected 2)"
     ]
    }
   ],
   "source": [
    "from numpy import linalg as la\n",
    "\n",
    "evals, evecs = np.linalg.eig(gray) #creating eigen values and eigen vectors\n",
    "sort_indices =np.argsort(gray)[::-1] # index sorting & inversing [::-1]\n",
    "x_v1,y_v1 = evecs[:, sort_indices[0]]  # Eigenvector with largest eigenvalue\n",
    "x_v2,y_v2 = evecs[:, sort_indices[1]]  # Eigenvector with lowest eigenvalue\n",
    "\n"
   ]
  },
  {
   "cell_type": "code",
   "execution_count": 6,
   "metadata": {},
   "outputs": [],
   "source": [
    "x = []\n",
    "for i in pic:\n",
    "    x.append(i.reshape(4096))\n"
   ]
  },
  {
   "cell_type": "code",
   "execution_count": 7,
   "metadata": {},
   "outputs": [
    {
     "data": {
      "text/html": [
       "<div>\n",
       "<style scoped>\n",
       "    .dataframe tbody tr th:only-of-type {\n",
       "        vertical-align: middle;\n",
       "    }\n",
       "\n",
       "    .dataframe tbody tr th {\n",
       "        vertical-align: top;\n",
       "    }\n",
       "\n",
       "    .dataframe thead th {\n",
       "        text-align: right;\n",
       "    }\n",
       "</style>\n",
       "<table border=\"1\" class=\"dataframe\">\n",
       "  <thead>\n",
       "    <tr style=\"text-align: right;\">\n",
       "      <th></th>\n",
       "      <th>0</th>\n",
       "      <th>1</th>\n",
       "      <th>2</th>\n",
       "      <th>3</th>\n",
       "      <th>4</th>\n",
       "      <th>5</th>\n",
       "      <th>6</th>\n",
       "      <th>7</th>\n",
       "      <th>8</th>\n",
       "      <th>9</th>\n",
       "      <th>...</th>\n",
       "      <th>4087</th>\n",
       "      <th>4088</th>\n",
       "      <th>4089</th>\n",
       "      <th>4090</th>\n",
       "      <th>4091</th>\n",
       "      <th>4092</th>\n",
       "      <th>4093</th>\n",
       "      <th>4094</th>\n",
       "      <th>4095</th>\n",
       "      <th>y</th>\n",
       "    </tr>\n",
       "  </thead>\n",
       "  <tbody>\n",
       "    <tr>\n",
       "      <th>0</th>\n",
       "      <td>0.176471</td>\n",
       "      <td>0.337255</td>\n",
       "      <td>0.345098</td>\n",
       "      <td>0.345098</td>\n",
       "      <td>0.345098</td>\n",
       "      <td>0.345098</td>\n",
       "      <td>0.341176</td>\n",
       "      <td>0.345098</td>\n",
       "      <td>0.321569</td>\n",
       "      <td>0.278431</td>\n",
       "      <td>...</td>\n",
       "      <td>0.364706</td>\n",
       "      <td>0.372549</td>\n",
       "      <td>0.368627</td>\n",
       "      <td>0.450980</td>\n",
       "      <td>0.501961</td>\n",
       "      <td>0.501961</td>\n",
       "      <td>0.435294</td>\n",
       "      <td>0.533333</td>\n",
       "      <td>0.462745</td>\n",
       "      <td>1</td>\n",
       "    </tr>\n",
       "    <tr>\n",
       "      <th>1</th>\n",
       "      <td>0.145098</td>\n",
       "      <td>0.207843</td>\n",
       "      <td>0.254902</td>\n",
       "      <td>0.262745</td>\n",
       "      <td>0.258824</td>\n",
       "      <td>0.258824</td>\n",
       "      <td>0.254902</td>\n",
       "      <td>0.239216</td>\n",
       "      <td>0.200000</td>\n",
       "      <td>0.168627</td>\n",
       "      <td>...</td>\n",
       "      <td>0.227451</td>\n",
       "      <td>0.149020</td>\n",
       "      <td>0.101961</td>\n",
       "      <td>0.078431</td>\n",
       "      <td>0.062745</td>\n",
       "      <td>0.066667</td>\n",
       "      <td>0.082353</td>\n",
       "      <td>0.098039</td>\n",
       "      <td>0.105882</td>\n",
       "      <td>0</td>\n",
       "    </tr>\n",
       "    <tr>\n",
       "      <th>2</th>\n",
       "      <td>0.117647</td>\n",
       "      <td>0.105882</td>\n",
       "      <td>0.101961</td>\n",
       "      <td>0.098039</td>\n",
       "      <td>0.098039</td>\n",
       "      <td>0.098039</td>\n",
       "      <td>0.098039</td>\n",
       "      <td>0.094118</td>\n",
       "      <td>0.098039</td>\n",
       "      <td>0.098039</td>\n",
       "      <td>...</td>\n",
       "      <td>0.086275</td>\n",
       "      <td>0.086275</td>\n",
       "      <td>0.086275</td>\n",
       "      <td>0.094118</td>\n",
       "      <td>0.105882</td>\n",
       "      <td>0.105882</td>\n",
       "      <td>0.101961</td>\n",
       "      <td>0.094118</td>\n",
       "      <td>0.098039</td>\n",
       "      <td>0</td>\n",
       "    </tr>\n",
       "    <tr>\n",
       "      <th>3</th>\n",
       "      <td>0.121569</td>\n",
       "      <td>0.121569</td>\n",
       "      <td>0.117647</td>\n",
       "      <td>0.117647</td>\n",
       "      <td>0.117647</td>\n",
       "      <td>0.121569</td>\n",
       "      <td>0.129412</td>\n",
       "      <td>0.133333</td>\n",
       "      <td>0.137255</td>\n",
       "      <td>0.129412</td>\n",
       "      <td>...</td>\n",
       "      <td>0.074510</td>\n",
       "      <td>0.070588</td>\n",
       "      <td>0.074510</td>\n",
       "      <td>0.086275</td>\n",
       "      <td>0.101961</td>\n",
       "      <td>0.121569</td>\n",
       "      <td>0.149020</td>\n",
       "      <td>0.164706</td>\n",
       "      <td>0.160784</td>\n",
       "      <td>0</td>\n",
       "    </tr>\n",
       "    <tr>\n",
       "      <th>4</th>\n",
       "      <td>0.113725</td>\n",
       "      <td>0.105882</td>\n",
       "      <td>0.105882</td>\n",
       "      <td>0.105882</td>\n",
       "      <td>0.105882</td>\n",
       "      <td>0.101961</td>\n",
       "      <td>0.101961</td>\n",
       "      <td>0.109804</td>\n",
       "      <td>0.137255</td>\n",
       "      <td>0.164706</td>\n",
       "      <td>...</td>\n",
       "      <td>0.125490</td>\n",
       "      <td>0.101961</td>\n",
       "      <td>0.070588</td>\n",
       "      <td>0.070588</td>\n",
       "      <td>0.066667</td>\n",
       "      <td>0.082353</td>\n",
       "      <td>0.105882</td>\n",
       "      <td>0.098039</td>\n",
       "      <td>0.094118</td>\n",
       "      <td>1</td>\n",
       "    </tr>\n",
       "  </tbody>\n",
       "</table>\n",
       "<p>5 rows × 4097 columns</p>\n",
       "</div>"
      ],
      "text/plain": [
       "          0         1         2         3         4         5         6  \\\n",
       "0  0.176471  0.337255  0.345098  0.345098  0.345098  0.345098  0.341176   \n",
       "1  0.145098  0.207843  0.254902  0.262745  0.258824  0.258824  0.254902   \n",
       "2  0.117647  0.105882  0.101961  0.098039  0.098039  0.098039  0.098039   \n",
       "3  0.121569  0.121569  0.117647  0.117647  0.117647  0.121569  0.129412   \n",
       "4  0.113725  0.105882  0.105882  0.105882  0.105882  0.101961  0.101961   \n",
       "\n",
       "          7         8         9 ...      4087      4088      4089      4090  \\\n",
       "0  0.345098  0.321569  0.278431 ...  0.364706  0.372549  0.368627  0.450980   \n",
       "1  0.239216  0.200000  0.168627 ...  0.227451  0.149020  0.101961  0.078431   \n",
       "2  0.094118  0.098039  0.098039 ...  0.086275  0.086275  0.086275  0.094118   \n",
       "3  0.133333  0.137255  0.129412 ...  0.074510  0.070588  0.074510  0.086275   \n",
       "4  0.109804  0.137255  0.164706 ...  0.125490  0.101961  0.070588  0.070588   \n",
       "\n",
       "       4091      4092      4093      4094      4095  y  \n",
       "0  0.501961  0.501961  0.435294  0.533333  0.462745  1  \n",
       "1  0.062745  0.066667  0.082353  0.098039  0.105882  0  \n",
       "2  0.105882  0.105882  0.101961  0.094118  0.098039  0  \n",
       "3  0.101961  0.121569  0.149020  0.164706  0.160784  0  \n",
       "4  0.066667  0.082353  0.105882  0.098039  0.094118  1  \n",
       "\n",
       "[5 rows x 4097 columns]"
      ]
     },
     "execution_count": 7,
     "metadata": {},
     "output_type": "execute_result"
    }
   ],
   "source": [
    "x = np.array(x)\n",
    "\n",
    "x_norm = x/x.max()\n",
    "df = pd.DataFrame(x_norm)\n",
    "df['y'] = face\n",
    "df.head()"
   ]
  },
  {
   "cell_type": "code",
   "execution_count": 8,
   "metadata": {},
   "outputs": [
    {
     "data": {
      "text/plain": [
       "(197, 4096)"
      ]
     },
     "execution_count": 8,
     "metadata": {},
     "output_type": "execute_result"
    }
   ],
   "source": [
    "x = df.drop(columns='y', axis = 1)\n",
    "y = df['y']\n",
    "x.shape"
   ]
  },
  {
   "cell_type": "code",
   "execution_count": 9,
   "metadata": {},
   "outputs": [
    {
     "data": {
      "text/plain": [
       "numpy.ndarray"
      ]
     },
     "execution_count": 9,
     "metadata": {},
     "output_type": "execute_result"
    }
   ],
   "source": [
    "x = np.array(x)\n",
    "type(x)"
   ]
  },
  {
   "cell_type": "code",
   "execution_count": 10,
   "metadata": {},
   "outputs": [],
   "source": [
    "from sklearn.decomposition import PCA"
   ]
  },
  {
   "cell_type": "code",
   "execution_count": 11,
   "metadata": {},
   "outputs": [],
   "source": [
    "pca = PCA()"
   ]
  },
  {
   "cell_type": "code",
   "execution_count": 12,
   "metadata": {},
   "outputs": [],
   "source": [
    "x_pca = pca.fit_transform(x.T)"
   ]
  },
  {
   "cell_type": "code",
   "execution_count": 13,
   "metadata": {},
   "outputs": [
    {
     "data": {
      "text/plain": [
       "(197, 4096)"
      ]
     },
     "execution_count": 13,
     "metadata": {},
     "output_type": "execute_result"
    }
   ],
   "source": [
    "x_pca.T.shape\n"
   ]
  },
  {
   "cell_type": "code",
   "execution_count": 14,
   "metadata": {},
   "outputs": [],
   "source": [
    "var_per = pca.explained_variance_ratio_"
   ]
  },
  {
   "cell_type": "code",
   "execution_count": 15,
   "metadata": {},
   "outputs": [],
   "source": [
    "cum = [0]\n",
    "for i in range(len(var_per)):\n",
    "    cum.append(cum[-1]+var_per[i])"
   ]
  },
  {
   "cell_type": "code",
   "execution_count": 16,
   "metadata": {},
   "outputs": [
    {
     "data": {
      "image/png": "[encoded data removed]",
      "text/plain": [
       "<Figure size 720x288 with 2 Axes>"
      ]
     },
     "metadata": {},
     "output_type": "display_data"
    }
   ],
   "source": [
    "plt.figure(figsize=(10,4))\n",
    "plt.subplot(1,2,1)\n",
    "plt.plot(var_per,'*-')\n",
    "plt.subplot(1,2,2)\n",
    "plt.plot(cum,'r.-')\n",
    "plt.show()"
   ]
  },
  {
   "cell_type": "code",
   "execution_count": 17,
   "metadata": {},
   "outputs": [],
   "source": [
    "pca = PCA(.87)"
   ]
  },
  {
   "cell_type": "code",
   "execution_count": 18,
   "metadata": {},
   "outputs": [],
   "source": [
    "x_pca = pca.fit_transform(x_pca.T)"
   ]
  },
  {
   "cell_type": "code",
   "execution_count": 19,
   "metadata": {},
   "outputs": [
    {
     "data": {
      "text/plain": [
       "(197, 23)"
      ]
     },
     "execution_count": 19,
     "metadata": {},
     "output_type": "execute_result"
    }
   ],
   "source": [
    "x_pca.shape"
   ]
  },
  {
   "cell_type": "code",
   "execution_count": 20,
   "metadata": {},
   "outputs": [
    {
     "data": {
      "text/plain": [
       "(197,)"
      ]
     },
     "execution_count": 20,
     "metadata": {},
     "output_type": "execute_result"
    }
   ],
   "source": [
    "y.shape"
   ]
  },
  {
   "cell_type": "code",
   "execution_count": 21,
   "metadata": {},
   "outputs": [
    {
     "data": {
      "text/plain": [
       "((157, 23), (157,))"
      ]
     },
     "execution_count": 21,
     "metadata": {},
     "output_type": "execute_result"
    }
   ],
   "source": [
    "from sklearn.model_selection import train_test_split\n",
    "x_train , x_test , y_train , y_test = train_test_split(x_pca,y , test_size=.2 )\n",
    "x_train.shape  , y_train.shape"
   ]
  },
  {
   "cell_type": "code",
   "execution_count": 22,
   "metadata": {},
   "outputs": [],
   "source": [
    "from sklearn.linear_model import LogisticRegression"
   ]
  },
  {
   "cell_type": "code",
   "execution_count": 23,
   "metadata": {},
   "outputs": [
    {
     "name": "stderr",
     "output_type": "stream",
     "text": [
      "/home/praveen/anaconda3/lib/python3.6/site-packages/sklearn/linear_model/logistic.py:433: FutureWarning: Default solver will be changed to 'lbfgs' in 0.22. Specify a solver to silence this warning.\n",
      "  FutureWarning)\n"
     ]
    },
    {
     "data": {
      "text/plain": [
       "LogisticRegression(C=1.0, class_weight=None, dual=False, fit_intercept=True,\n",
       "          intercept_scaling=1, max_iter=100, multi_class='warn',\n",
       "          n_jobs=None, penalty='l2', random_state=None, solver='warn',\n",
       "          tol=0.0001, verbose=0, warm_start=False)"
      ]
     },
     "execution_count": 23,
     "metadata": {},
     "output_type": "execute_result"
    }
   ],
   "source": [
    "model = LogisticRegression()\n",
    "model.fit(x_train,y_train)"
   ]
  },
  {
   "cell_type": "code",
   "execution_count": 24,
   "metadata": {},
   "outputs": [
    {
     "data": {
      "text/plain": [
       "((157,), (157,))"
      ]
     },
     "execution_count": 24,
     "metadata": {},
     "output_type": "execute_result"
    }
   ],
   "source": [
    "y_pred = model.predict(x_train)\n",
    "y_pred.shape , y_train.shape"
   ]
  },
  {
   "cell_type": "code",
   "execution_count": 25,
   "metadata": {},
   "outputs": [
    {
     "name": "stdout",
     "output_type": "stream",
     "text": [
      "Predicted  False  True  __all__\n",
      "Actual                         \n",
      "False          5    58       63\n",
      "True           1    64       65\n",
      "__all__        6   122      128\n"
     ]
    }
   ],
   "source": [
    "from pandas_ml import ConfusionMatrix\n",
    "cm = ConfusionMatrix(y_train,y_pred)\n",
    "print(cm)"
   ]
  },
  {
   "cell_type": "code",
   "execution_count": 26,
   "metadata": {},
   "outputs": [
    {
     "name": "stdout",
     "output_type": "stream",
     "text": [
      "Predicted  False  True  __all__\n",
      "Actual                         \n",
      "False          0     0        0\n",
      "True           0     0        0\n",
      "__all__        0     0        0\n"
     ]
    }
   ],
   "source": [
    "y_hat_test = model.predict(x_test)\n",
    "cm1 = ConfusionMatrix(y_test,y_hat_test)\n",
    "print(cm1)"
   ]
  },
  {
   "cell_type": "code",
   "execution_count": 27,
   "metadata": {},
   "outputs": [
    {
     "name": "stderr",
     "output_type": "stream",
     "text": [
      "/home/praveen/anaconda3/lib/python3.6/site-packages/pandas_ml/confusion_matrix/stats.py:60: FutureWarning: supplying multiple axes to axis is deprecated and will be removed in a future version.\n",
      "  num = df[df > 1].dropna(axis=[0, 1], thresh=1).applymap(lambda n: choose(n, 2)).sum().sum() - np.float64(nis2 * njs2) / n2\n"
     ]
    },
    {
     "data": {
      "text/plain": [
       "OrderedDict([('Accuracy', 0.5390625),\n",
       "             ('95% CI', (0.4487739983990822, 0.6275026021148515)),\n",
       "             ('No Information Rate', 'ToDo'),\n",
       "             ('P-Value [Acc > NIR]', 0.9999999999999999),\n",
       "             ('Kappa', 0.06488360574541853),\n",
       "             (\"Mcnemar's Test P-Value\", 'ToDo')])"
      ]
     },
     "execution_count": 27,
     "metadata": {},
     "output_type": "execute_result"
    }
   ],
   "source": [
    "cm.stats_overall"
   ]
  },
  {
   "cell_type": "code",
   "execution_count": 28,
   "metadata": {},
   "outputs": [
    {
     "name": "stderr",
     "output_type": "stream",
     "text": [
      "/home/praveen/anaconda3/lib/python3.6/site-packages/pandas_ml/confusion_matrix/stats.py:51: RuntimeWarning: invalid value encountered in double_scalars\n",
      "  p0 = np.float64(np.diag(df.iloc[0:m, 0:m]).sum()) / n\n",
      "/home/praveen/anaconda3/lib/python3.6/site-packages/pandas_ml/confusion_matrix/stats.py:52: RuntimeWarning: invalid value encountered in double_scalars\n",
      "  pc = np.float64((ni.iloc[0:m] * nj.iloc[0:m]).sum()) / (n**2)\n",
      "/home/praveen/anaconda3/lib/python3.6/site-packages/pandas_ml/confusion_matrix/stats.py:56: RuntimeWarning: invalid value encountered in double_scalars\n",
      "  rand = np.float64(1) + ((df**2).sum().sum() - ((ni**2).sum() + (nj**2).sum()) / 2) / n2\n",
      "/home/praveen/anaconda3/lib/python3.6/site-packages/pandas_ml/confusion_matrix/stats.py:60: FutureWarning: supplying multiple axes to axis is deprecated and will be removed in a future version.\n",
      "  num = df[df > 1].dropna(axis=[0, 1], thresh=1).applymap(lambda n: choose(n, 2)).sum().sum() - np.float64(nis2 * njs2) / n2\n",
      "/home/praveen/anaconda3/lib/python3.6/site-packages/pandas_ml/confusion_matrix/stats.py:60: RuntimeWarning: invalid value encountered in double_scalars\n",
      "  num = df[df > 1].dropna(axis=[0, 1], thresh=1).applymap(lambda n: choose(n, 2)).sum().sum() - np.float64(nis2 * njs2) / n2\n",
      "/home/praveen/anaconda3/lib/python3.6/site-packages/pandas_ml/confusion_matrix/stats.py:61: RuntimeWarning: invalid value encountered in double_scalars\n",
      "  den = (np.float64(nis2 + njs2) / 2 - np.float64(nis2 * njs2) / n2)\n"
     ]
    },
    {
     "data": {
      "text/plain": [
       "OrderedDict([('Accuracy', nan),\n",
       "             ('95% CI', (nan, nan)),\n",
       "             ('No Information Rate', 'ToDo'),\n",
       "             ('P-Value [Acc > NIR]', nan),\n",
       "             ('Kappa', nan),\n",
       "             (\"Mcnemar's Test P-Value\", 'ToDo')])"
      ]
     },
     "execution_count": 28,
     "metadata": {},
     "output_type": "execute_result"
    }
   ],
   "source": [
    "cm1.stats_overall"
   ]
  },
  {
   "cell_type": "markdown",
   "metadata": {},
   "source": [
    "# Desison Tree"
   ]
  },
  {
   "cell_type": "code",
   "execution_count": 29,
   "metadata": {},
   "outputs": [
    {
     "data": {
      "text/plain": [
       "DecisionTreeClassifier(class_weight=None, criterion='gini', max_depth=None,\n",
       "            max_features=None, max_leaf_nodes=None,\n",
       "            min_impurity_decrease=0.0, min_impurity_split=None,\n",
       "            min_samples_leaf=1, min_samples_split=2,\n",
       "            min_weight_fraction_leaf=0.0, presort=False, random_state=None,\n",
       "            splitter='best')"
      ]
     },
     "execution_count": 29,
     "metadata": {},
     "output_type": "execute_result"
    }
   ],
   "source": [
    "from sklearn.tree import DecisionTreeClassifier\n",
    "model1 = DecisionTreeClassifier()\n",
    "model1.fit(x_train,y_train)"
   ]
  },
  {
   "cell_type": "code",
   "execution_count": 30,
   "metadata": {},
   "outputs": [
    {
     "data": {
      "text/plain": [
       "((157,), (157,))"
      ]
     },
     "execution_count": 30,
     "metadata": {},
     "output_type": "execute_result"
    }
   ],
   "source": [
    "y_de = model1.predict(x_train)\n",
    "y_pred.shape , y_train.shape"
   ]
  },
  {
   "cell_type": "code",
   "execution_count": 31,
   "metadata": {},
   "outputs": [
    {
     "name": "stdout",
     "output_type": "stream",
     "text": [
      "Predicted  False  True  __all__\n",
      "Actual                         \n",
      "False         29    34       63\n",
      "True          33    32       65\n",
      "__all__       62    66      128\n"
     ]
    }
   ],
   "source": [
    "from pandas_ml import ConfusionMatrix\n",
    "cm = ConfusionMatrix(y_train,y_de)\n",
    "print(cm)"
   ]
  },
  {
   "cell_type": "code",
   "execution_count": 32,
   "metadata": {},
   "outputs": [
    {
     "name": "stderr",
     "output_type": "stream",
     "text": [
      "/home/praveen/anaconda3/lib/python3.6/site-packages/pandas_ml/confusion_matrix/stats.py:60: FutureWarning: supplying multiple axes to axis is deprecated and will be removed in a future version.\n",
      "  num = df[df > 1].dropna(axis=[0, 1], thresh=1).applymap(lambda n: choose(n, 2)).sum().sum() - np.float64(nis2 * njs2) / n2\n"
     ]
    },
    {
     "data": {
      "text/plain": [
       "OrderedDict([('Accuracy', 0.4765625),\n",
       "             ('95% CI', (0.38758641495491014, 0.5666475097941697)),\n",
       "             ('No Information Rate', 'ToDo'),\n",
       "             ('P-Value [Acc > NIR]', 0.8346633756453212),\n",
       "             ('Kappa', -0.04738641914997557),\n",
       "             (\"Mcnemar's Test P-Value\", 'ToDo')])"
      ]
     },
     "execution_count": 32,
     "metadata": {},
     "output_type": "execute_result"
    }
   ],
   "source": [
    "cm.stats_overall"
   ]
  },
  {
   "cell_type": "code",
   "execution_count": null,
   "metadata": {},
   "outputs": [],
   "source": []
  },
  {
   "cell_type": "code",
   "execution_count": 33,
   "metadata": {},
   "outputs": [],
   "source": [
    "# face_cascade = cv2.CascadeClassifier('./xml/haarcascade_frontalface_default.xml')\n",
    "# for i in  path:\n",
    "#     img = cv2.imread(i)\n",
    "#     gray = cv2.cvtColor(img, cv2.COLOR_BGR2GRAY)\n",
    "#     faces = face_cascade.detectMultiScale(gray, 1.3, 5)\n",
    "\n",
    "# for (x, y, w, h) in faces:\n",
    "#     cv2.rectangle(img, (x, y), (x + w, y + h), (255,0, 0), 2)\n",
    "#     roi_color = img[y:y + h, x:x + w]\n",
    "#     print(\"[INFO] Object found. Saving locally.\")\n",
    "#     cv2.imwrite('./detected images/'+str(w) + str(h) + '_faces.jpg', roi_color)"
   ]
  },
  {
   "cell_type": "markdown",
   "metadata": {},
   "source": [
    "## female function"
   ]
  },
  {
   "cell_type": "code",
   "execution_count": 31,
   "metadata": {},
   "outputs": [],
   "source": [
    "\n",
    "# def face_dec(ind,i):\n",
    "#     face_cascade = cv2.CascadeClassifier('./xml/haarcascade_frontalface_default.xml')\n",
    "#     img = cv2.imread(i)\n",
    "#     gray = cv2.cvtColor(img, cv2.COLOR_BGR2GRAY)\n",
    "#     faces = face_cascade.detectMultiScale(gray, 1.3, 5)\n",
    "    \n",
    "\n",
    "#     for (x, y, w, h) in faces:\n",
    "#         cv2.rectangle(img, (x, y), (x + w, y + h), (255,0, 0), 2)\n",
    "#         roi_color = img[y:y + h, x:x + w]\n",
    "#         print(\"[INFO] Object found. Saving locally.\")\n",
    "#         return cv2.imwrite('./detected female images/'+ str(ind)+str(w) + str(h) + '_faces.jpeg', roi_color)"
   ]
  },
  {
   "cell_type": "code",
   "execution_count": 32,
   "metadata": {},
   "outputs": [],
   "source": [
    "# path = glob.glob('./female/*.jpeg')\n",
    "\n",
    "# for ind,img in enumerate(path):\n",
    "#     v = cv.imread(img)\n",
    "#     face_dec(ind,img)"
   ]
  },
  {
   "cell_type": "code",
   "execution_count": 33,
   "metadata": {},
   "outputs": [],
   "source": [
    "\n",
    "# def face_dec_male(ind,i):\n",
    "#     face_cascade = cv2.CascadeClassifier('./xml/haarcascade_frontalface_default.xml')\n",
    "#     img = cv2.imread(i)\n",
    "#     gray = cv2.cvtColor(img, cv2.COLOR_BGR2GRAY)\n",
    "#     faces = face_cascade.detectMultiScale(gray, 1.3, 5)\n",
    "    \n",
    "\n",
    "#     for (x, y, w, h) in faces:\n",
    "#         cv2.rectangle(img, (x, y), (x + w, y + h), (255,0, 0), 2)\n",
    "#         roi_color = img[y:y + h, x:x + w]\n",
    "#         print(\"[INFO] Object found. Saving locally.\")\n",
    "#         return cv2.imwrite('./detected male images/'+ str(ind)+str(w) + str(h) + '_faces.jpeg', roi_color)"
   ]
  },
  {
   "cell_type": "code",
   "execution_count": 34,
   "metadata": {},
   "outputs": [],
   "source": [
    "# path = glob.glob('./male/*.jpeg')\n",
    "\n",
    "# for ind,img in enumerate(path):\n",
    "#     v = cv.imread(img)\n",
    "#     face_dec_male(ind,img)"
   ]
  },
  {
   "cell_type": "code",
   "execution_count": 35,
   "metadata": {},
   "outputs": [],
   "source": [
    "# # importing os module \n",
    "# import os \n",
    "  \n",
    "# # Function to rename multiple files \n",
    "\n",
    "# i = 0\n",
    "\n",
    "# for filename in os.listdir(\"./detected female images/\"): \n",
    "#     dst =\"0_\" + str(i) + \"_0.jpeg\"\n",
    "#     src ='./detected female images/'+ filename \n",
    "#     dst ='./detected female images/'+ dst \n",
    "\n",
    "#     # rename() function will \n",
    "#     # rename all the files \n",
    "#     os.rename(src, dst) \n",
    "#     i += 1"
   ]
  },
  {
   "cell_type": "code",
   "execution_count": 36,
   "metadata": {},
   "outputs": [],
   "source": [
    "# # importing os module \n",
    "# import os \n",
    "  \n",
    "# # Function to rename multiple files \n",
    "\n",
    "# i = 0\n",
    "\n",
    "# for filename in os.listdir(\"./detected male images/\"): \n",
    "#     dst =\"1_\" + str(i) + \"_1.jpeg\"\n",
    "#     src ='./detected male images/'+ filename \n",
    "#     dst ='./detected male images/'+ dst \n",
    "\n",
    "#     # rename() function will \n",
    "#     # rename all the files \n",
    "#     os.rename(src, dst) \n",
    "#     i += 1"
   ]
  },
  {
   "cell_type": "markdown",
   "metadata": {},
   "source": [
    "## resize of image 64,64"
   ]
  },
  {
   "cell_type": "code",
   "execution_count": 48,
   "metadata": {},
   "outputs": [],
   "source": [
    "# path = glob.glob('./detected_img/*.jpeg')\n",
    "# image=[]\n",
    "# for img in path:\n",
    "#     v = cv.imread(img)\n",
    "#     gray = cv.cvtColor(v,cv.COLOR_BGR2GRAY)# here changing  color image to gray scale\n",
    "#     gray = cv2.resize(gray,(64,64))\n",
    "#     image.append(gray)\n",
    "    "
   ]
  }
 ],
 "metadata": {
  "kernelspec": {
   "display_name": "Python 3",
   "language": "python",
   "name": "python3"
  },
  "language_info": {
   "codemirror_mode": {
    "name": "ipython",
    "version": 3
   },
   "file_extension": ".py",
   "mimetype": "text/x-python",
   "name": "python",
   "nbconvert_exporter": "python",
   "pygments_lexer": "ipython3",
   "version": "3.6.8"
  }
 },
 "nbformat": 4,
 "nbformat_minor": 2
}
