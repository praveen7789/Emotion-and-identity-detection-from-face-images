{
 "cells": [
  {
   "cell_type": "code",
   "execution_count": 1,
   "metadata": {},
   "outputs": [],
   "source": [
    "import glob\n",
    "import dlib\n",
    "import cv2\n",
    "import pickle\n",
    "import random\n",
    "import facevec\n",
    "import numpy as np\n",
    "import matplotlib.pyplot as plt\n",
    "%matplotlib inline\n",
    "from imutils import face_utils\n"
   ]
  },
  {
   "cell_type": "code",
   "execution_count": 2,
   "metadata": {},
   "outputs": [],
   "source": [
    "def adjust_gamma(input_image, gamma=1.0):\n",
    "    table = np.array([((iteration / 255.0) ** (1.0 / gamma)) * 255\n",
    "                      for iteration in np.arange(0, 256)]).astype(\"uint8\")\n",
    "    return cv2.LUT(input_image, table)"
   ]
  },
  {
   "cell_type": "code",
   "execution_count": 3,
   "metadata": {},
   "outputs": [],
   "source": [
    "def read_image(path, gamma=0.75):\n",
    "    output = cv2.imread(path)\n",
    "    return adjust_gamma(output, gamma=gamma)"
   ]
  },
  {
   "cell_type": "code",
   "execution_count": 4,
   "metadata": {},
   "outputs": [],
   "source": [
    "def face_vector(input_image):\n",
    "    faces = facevec.detector(input_image, 1) \n",
    "    if not faces:\n",
    "        return None\n",
    "\n",
    "    f = faces[0]\n",
    "    shape = facevec.predictor(input_image, f)\n",
    "    face_descriptor = facevec.face_model.compute_face_descriptor(input_image, shape)\n",
    "    return face_descriptor"
   ]
  },
  {
   "cell_type": "code",
   "execution_count": 5,
   "metadata": {},
   "outputs": [],
   "source": [
    "male = 0\n",
    "female = 1"
   ]
  },
  {
   "cell_type": "code",
   "execution_count": 6,
   "metadata": {},
   "outputs": [
    {
     "name": "stdout",
     "output_type": "stream",
     "text": [
      "Retrieving Male images ...\n",
      "Retrieved 122 faces !\n",
      "Retrieving female images ...\n",
      "Retrieved 127 faces !\n"
     ]
    }
   ],
   "source": [
    "print(\"Retrieving Male images ...\")\n",
    "sub1 = glob.glob(\"./male/*.jpeg\")\n",
    "print(\"Retrieved {} faces !\".format(len(sub1)))\n",
    "\n",
    "print(\"Retrieving female images ...\")\n",
    "sub2 = glob.glob(\"./female/*.jpeg\")\n",
    "print(\"Retrieved {} faces !\".format(len(sub2)))"
   ]
  },
  {
   "cell_type": "code",
   "execution_count": 7,
   "metadata": {},
   "outputs": [],
   "source": [
    "vectors = dlib.vectors()\n",
    "labels = dlib.array()"
   ]
  },
  {
   "cell_type": "code",
   "execution_count": 8,
   "metadata": {},
   "outputs": [
    {
     "name": "stdout",
     "output_type": "stream",
     "text": [
      "Reading Males images ...\n",
      "Reading 0 of 122\n",
      "Reading 1 of 122\n",
      "Reading 2 of 122\n",
      "Reading 3 of 122\n",
      "Reading 4 of 122\n",
      "Reading 5 of 122\n",
      "Reading 6 of 122\n",
      "Reading 7 of 122\n",
      "Reading 8 of 122\n",
      "Reading 9 of 122\n",
      "Reading 10 of 122\n",
      "Reading 11 of 122\n",
      "Reading 12 of 122\n",
      "Reading 13 of 122\n",
      "Reading 14 of 122\n",
      "Reading 15 of 122\n",
      "Reading 16 of 122\n",
      "Reading 17 of 122\n",
      "Reading 18 of 122\n",
      "Reading 19 of 122\n",
      "Reading 20 of 122\n",
      "Reading 21 of 122\n",
      "Reading 22 of 122\n",
      "Reading 23 of 122\n",
      "Reading 24 of 122\n",
      "Reading 25 of 122\n",
      "Reading 26 of 122\n",
      "Reading 27 of 122\n",
      "Reading 28 of 122\n",
      "Reading 29 of 122\n",
      "Reading 30 of 122\n",
      "Reading 31 of 122\n",
      "Reading 32 of 122\n",
      "Reading 33 of 122\n",
      "Reading 34 of 122\n",
      "Reading 35 of 122\n",
      "Reading 36 of 122\n",
      "Reading 37 of 122\n",
      "Reading 38 of 122\n",
      "Reading 39 of 122\n",
      "Reading 40 of 122\n",
      "Reading 41 of 122\n",
      "Reading 42 of 122\n",
      "Reading 43 of 122\n",
      "Reading 44 of 122\n",
      "Reading 45 of 122\n",
      "Reading 46 of 122\n",
      "Reading 47 of 122\n",
      "Reading 48 of 122\n",
      "Reading 49 of 122\n",
      "Reading 50 of 122\n",
      "Reading 51 of 122\n",
      "Reading 52 of 122\n",
      "Reading 53 of 122\n",
      "Reading 54 of 122\n",
      "Reading 55 of 122\n",
      "Reading 56 of 122\n",
      "Reading 57 of 122\n",
      "Reading 58 of 122\n",
      "Reading 59 of 122\n",
      "Reading 60 of 122\n",
      "Reading 61 of 122\n",
      "Reading 62 of 122\n",
      "Reading 63 of 122\n",
      "Reading 64 of 122\n",
      "Reading 65 of 122\n",
      "Reading 66 of 122\n",
      "Reading 67 of 122\n",
      "Reading 68 of 122\n",
      "Reading 69 of 122\n",
      "Reading 70 of 122\n",
      "Reading 71 of 122\n",
      "Reading 72 of 122\n",
      "Reading 73 of 122\n",
      "Reading 74 of 122\n",
      "Reading 75 of 122\n",
      "Reading 76 of 122\n",
      "Reading 77 of 122\n",
      "Reading 78 of 122\n",
      "Reading 79 of 122\n",
      "Reading 80 of 122\n",
      "Reading 81 of 122\n",
      "Reading 82 of 122\n",
      "Reading 83 of 122\n",
      "Reading 84 of 122\n",
      "Reading 85 of 122\n",
      "Reading 86 of 122\n",
      "Reading 87 of 122\n",
      "Reading 88 of 122\n",
      "Reading 89 of 122\n",
      "Reading 90 of 122\n",
      "Reading 91 of 122\n",
      "Reading 92 of 122\n",
      "Reading 93 of 122\n",
      "Reading 94 of 122\n",
      "Reading 95 of 122\n",
      "Reading 96 of 122\n",
      "Reading 97 of 122\n",
      "Reading 98 of 122\n",
      "Reading 99 of 122\n",
      "Reading 100 of 122\n",
      "Reading 101 of 122\n",
      "Reading 102 of 122\n",
      "Reading 103 of 122\n",
      "Reading 104 of 122\n",
      "Reading 105 of 122\n",
      "Reading 106 of 122\n",
      "Reading 107 of 122\n",
      "Reading 108 of 122\n",
      "Reading 109 of 122\n",
      "Reading 110 of 122\n",
      "Reading 111 of 122\n",
      "Reading 112 of 122\n",
      "Reading 113 of 122\n",
      "Reading 114 of 122\n",
      "Reading 115 of 122\n",
      "Reading 116 of 122\n",
      "Reading 117 of 122\n",
      "Reading 118 of 122\n",
      "Reading 119 of 122\n",
      "Reading 120 of 122\n",
      "Reading 121 of 122\n"
     ]
    }
   ],
   "source": [
    "print(\"Reading Males images ...\")\n",
    "for i, sub in enumerate(sub1):\n",
    "    print(\"Reading {} of {}\\r\".format(i, len(sub1)))\n",
    "    face_vectors = face_vector(read_image(sub))\n",
    "    if face_vectors is None:\n",
    "        continue\n",
    "    vectors.append(dlib.vector(face_vectors))\n",
    "    labels.append(male)"
   ]
  },
  {
   "cell_type": "code",
   "execution_count": 9,
   "metadata": {},
   "outputs": [
    {
     "name": "stdout",
     "output_type": "stream",
     "text": [
      "Reading Female  images ...\n",
      "Reading 0 of 127\n",
      "Reading 1 of 127\n",
      "Reading 2 of 127\n",
      "Reading 3 of 127\n",
      "Reading 4 of 127\n",
      "Reading 5 of 127\n",
      "Reading 6 of 127\n",
      "Reading 7 of 127\n",
      "Reading 8 of 127\n",
      "Reading 9 of 127\n",
      "Reading 10 of 127\n",
      "Reading 11 of 127\n",
      "Reading 12 of 127\n",
      "Reading 13 of 127\n",
      "Reading 14 of 127\n",
      "Reading 15 of 127\n",
      "Reading 16 of 127\n",
      "Reading 17 of 127\n",
      "Reading 18 of 127\n",
      "Reading 19 of 127\n",
      "Reading 20 of 127\n",
      "Reading 21 of 127\n",
      "Reading 22 of 127\n",
      "Reading 23 of 127\n",
      "Reading 24 of 127\n",
      "Reading 25 of 127\n",
      "Reading 26 of 127\n",
      "Reading 27 of 127\n",
      "Reading 28 of 127\n",
      "Reading 29 of 127\n",
      "Reading 30 of 127\n",
      "Reading 31 of 127\n",
      "Reading 32 of 127\n",
      "Reading 33 of 127\n",
      "Reading 34 of 127\n",
      "Reading 35 of 127\n",
      "Reading 36 of 127\n",
      "Reading 37 of 127\n",
      "Reading 38 of 127\n",
      "Reading 39 of 127\n",
      "Reading 40 of 127\n",
      "Reading 41 of 127\n",
      "Reading 42 of 127\n",
      "Reading 43 of 127\n",
      "Reading 44 of 127\n",
      "Reading 45 of 127\n",
      "Reading 46 of 127\n",
      "Reading 47 of 127\n",
      "Reading 48 of 127\n",
      "Reading 49 of 127\n",
      "Reading 50 of 127\n",
      "Reading 51 of 127\n",
      "Reading 52 of 127\n",
      "Reading 53 of 127\n",
      "Reading 54 of 127\n",
      "Reading 55 of 127\n",
      "Reading 56 of 127\n",
      "Reading 57 of 127\n",
      "Reading 58 of 127\n",
      "Reading 59 of 127\n",
      "Reading 60 of 127\n",
      "Reading 61 of 127\n",
      "Reading 62 of 127\n",
      "Reading 63 of 127\n",
      "Reading 64 of 127\n",
      "Reading 65 of 127\n",
      "Reading 66 of 127\n",
      "Reading 67 of 127\n",
      "Reading 68 of 127\n",
      "Reading 69 of 127\n",
      "Reading 70 of 127\n",
      "Reading 71 of 127\n",
      "Reading 72 of 127\n",
      "Reading 73 of 127\n",
      "Reading 74 of 127\n",
      "Reading 75 of 127\n",
      "Reading 76 of 127\n",
      "Reading 77 of 127\n",
      "Reading 78 of 127\n",
      "Reading 79 of 127\n",
      "Reading 80 of 127\n",
      "Reading 81 of 127\n",
      "Reading 82 of 127\n",
      "Reading 83 of 127\n",
      "Reading 84 of 127\n",
      "Reading 85 of 127\n",
      "Reading 86 of 127\n",
      "Reading 87 of 127\n",
      "Reading 88 of 127\n",
      "Reading 89 of 127\n",
      "Reading 90 of 127\n",
      "Reading 91 of 127\n",
      "Reading 92 of 127\n",
      "Reading 93 of 127\n",
      "Reading 94 of 127\n",
      "Reading 95 of 127\n",
      "Reading 96 of 127\n",
      "Reading 97 of 127\n",
      "Reading 98 of 127\n",
      "Reading 99 of 127\n",
      "Reading 100 of 127\n",
      "Reading 101 of 127\n",
      "Reading 102 of 127\n",
      "Reading 103 of 127\n",
      "Reading 104 of 127\n",
      "Reading 105 of 127\n",
      "Reading 106 of 127\n",
      "Reading 107 of 127\n",
      "Reading 108 of 127\n",
      "Reading 109 of 127\n",
      "Reading 110 of 127\n",
      "Reading 111 of 127\n",
      "Reading 112 of 127\n",
      "Reading 113 of 127\n",
      "Reading 114 of 127\n",
      "Reading 115 of 127\n",
      "Reading 116 of 127\n",
      "Reading 117 of 127\n",
      "Reading 118 of 127\n",
      "Reading 119 of 127\n",
      "Reading 120 of 127\n",
      "Reading 121 of 127\n",
      "Reading 122 of 127\n",
      "Reading 123 of 127\n",
      "Reading 124 of 127\n",
      "Reading 125 of 127\n",
      "Reading 126 of 127\n"
     ]
    }
   ],
   "source": [
    "print(\"Reading Female  images ...\")\n",
    "for i, sub in enumerate(sub2):\n",
    "    print(\"Reading {} of {}\\r\".format(i, len(sub2)))\n",
    "    face_vectors = face_vector(read_image(sub))\n",
    "    if face_vectors is None:\n",
    "        continue\n",
    "    vectors.append(dlib.vector(face_vectors))\n",
    "    labels.append(female)"
   ]
  },
  {
   "cell_type": "markdown",
   "metadata": {},
   "source": [
    "# Training"
   ]
  },
  {
   "cell_type": "code",
   "execution_count": 10,
   "metadata": {},
   "outputs": [
    {
     "data": {
      "text/plain": [
       "dlib.vectors"
      ]
     },
     "execution_count": 10,
     "metadata": {},
     "output_type": "execute_result"
    }
   ],
   "source": [
    "type(vectors)"
   ]
  },
  {
   "cell_type": "code",
   "execution_count": 11,
   "metadata": {},
   "outputs": [],
   "source": [
    "vec = np.array(vectors)"
   ]
  },
  {
   "cell_type": "code",
   "execution_count": 12,
   "metadata": {},
   "outputs": [],
   "source": [
    "lab = np.array(labels)"
   ]
  },
  {
   "cell_type": "code",
   "execution_count": 13,
   "metadata": {},
   "outputs": [
    {
     "data": {
      "text/plain": [
       "(233, 128)"
      ]
     },
     "execution_count": 13,
     "metadata": {},
     "output_type": "execute_result"
    }
   ],
   "source": [
    "vec.shape"
   ]
  },
  {
   "cell_type": "code",
   "execution_count": 14,
   "metadata": {},
   "outputs": [
    {
     "data": {
      "text/plain": [
       "(233,)"
      ]
     },
     "execution_count": 14,
     "metadata": {},
     "output_type": "execute_result"
    }
   ],
   "source": [
    "lab.shape"
   ]
  },
  {
   "cell_type": "code",
   "execution_count": 25,
   "metadata": {},
   "outputs": [],
   "source": [
    "X = vec\n",
    "y = lab.reshape(-1,1)"
   ]
  },
  {
   "cell_type": "code",
   "execution_count": 26,
   "metadata": {},
   "outputs": [
    {
     "data": {
      "text/plain": [
       "(233, 1)"
      ]
     },
     "execution_count": 26,
     "metadata": {},
     "output_type": "execute_result"
    }
   ],
   "source": [
    "y.shape"
   ]
  },
  {
   "cell_type": "code",
   "execution_count": 27,
   "metadata": {},
   "outputs": [
    {
     "data": {
      "text/plain": [
       "(233, 128)"
      ]
     },
     "execution_count": 27,
     "metadata": {},
     "output_type": "execute_result"
    }
   ],
   "source": [
    "X.shape"
   ]
  },
  {
   "cell_type": "code",
   "execution_count": 28,
   "metadata": {},
   "outputs": [],
   "source": [
    "dataset = np.append(X,y,axis = 1)"
   ]
  },
  {
   "cell_type": "code",
   "execution_count": 29,
   "metadata": {},
   "outputs": [],
   "source": [
    "np.savetxt('face_vectors.csv',dataset,delimiter = ',')"
   ]
  },
  {
   "cell_type": "code",
   "execution_count": 30,
   "metadata": {},
   "outputs": [],
   "source": [
    "from sklearn.model_selection import train_test_split"
   ]
  },
  {
   "cell_type": "code",
   "execution_count": 31,
   "metadata": {},
   "outputs": [],
   "source": [
    "x_train, x_test, y_train, y_test = train_test_split(X,y,test_size = 0.2, random_state = 0)"
   ]
  },
  {
   "cell_type": "code",
   "execution_count": 32,
   "metadata": {},
   "outputs": [],
   "source": [
    "from sklearn.neighbors import KNeighborsClassifier\n"
   ]
  },
  {
   "cell_type": "code",
   "execution_count": 33,
   "metadata": {},
   "outputs": [],
   "source": [
    "model_knn = KNeighborsClassifier(n_neighbors=3)\n"
   ]
  },
  {
   "cell_type": "code",
   "execution_count": 34,
   "metadata": {},
   "outputs": [
    {
     "name": "stderr",
     "output_type": "stream",
     "text": [
      "/home/praveen/anaconda3/lib/python3.6/site-packages/ipykernel_launcher.py:1: DataConversionWarning: A column-vector y was passed when a 1d array was expected. Please change the shape of y to (n_samples, ), for example using ravel().\n",
      "  \"\"\"Entry point for launching an IPython kernel.\n"
     ]
    },
    {
     "data": {
      "text/plain": [
       "KNeighborsClassifier(algorithm='auto', leaf_size=30, metric='minkowski',\n",
       "           metric_params=None, n_jobs=None, n_neighbors=3, p=2,\n",
       "           weights='uniform')"
      ]
     },
     "execution_count": 34,
     "metadata": {},
     "output_type": "execute_result"
    }
   ],
   "source": [
    "model_knn.fit(x_train, y_train) # training model"
   ]
  },
  {
   "cell_type": "code",
   "execution_count": 35,
   "metadata": {},
   "outputs": [],
   "source": [
    "y_pred_knn = model_knn.predict(x_test) # we use this for evaluation"
   ]
  },
  {
   "cell_type": "code",
   "execution_count": 36,
   "metadata": {},
   "outputs": [],
   "source": [
    "from sklearn.metrics import confusion_matrix, classification_report"
   ]
  },
  {
   "cell_type": "code",
   "execution_count": 37,
   "metadata": {},
   "outputs": [],
   "source": [
    "cm_knn = confusion_matrix(y_test, y_pred_knn) # confusion matrix\n",
    "\n",
    "\n",
    "cr_knn = classification_report(y_test, y_pred_knn) # classification report"
   ]
  },
  {
   "cell_type": "code",
   "execution_count": 38,
   "metadata": {},
   "outputs": [],
   "source": [
    "import seaborn as sns"
   ]
  },
  {
   "cell_type": "code",
   "execution_count": 39,
   "metadata": {},
   "outputs": [
    {
     "data": {
      "image/png": "[encoded data removed]",
      "text/plain": [
       "<Figure size 432x288 with 1 Axes>"
      ]
     },
     "metadata": {},
     "output_type": "display_data"
    }
   ],
   "source": [
    "sns.heatmap(cm_knn,annot=True,cbar=None,cmap = 'summer')\n",
    "plt.title('K Nearest Neighbour')\n",
    "plt.show()"
   ]
  },
  {
   "cell_type": "code",
   "execution_count": 40,
   "metadata": {},
   "outputs": [
    {
     "name": "stdout",
     "output_type": "stream",
     "text": [
      "====================KNearest Neighbour====================\n",
      "              precision    recall  f1-score   support\n",
      "\n",
      "         0.0       0.94      1.00      0.97        17\n",
      "         1.0       1.00      0.97      0.98        30\n",
      "\n",
      "   micro avg       0.98      0.98      0.98        47\n",
      "   macro avg       0.97      0.98      0.98        47\n",
      "weighted avg       0.98      0.98      0.98        47\n",
      "\n"
     ]
    }
   ],
   "source": [
    "print('='*20+'KNearest Neighbour'+'='*20)\n",
    "print(cr_knn)"
   ]
  },
  {
   "cell_type": "code",
   "execution_count": 41,
   "metadata": {},
   "outputs": [],
   "source": [
    "from sklearn.externals import joblib"
   ]
  },
  {
   "cell_type": "code",
   "execution_count": 42,
   "metadata": {},
   "outputs": [
    {
     "data": {
      "text/plain": [
       "['gender_class_1.pkl']"
      ]
     },
     "execution_count": 42,
     "metadata": {},
     "output_type": "execute_result"
    }
   ],
   "source": [
    "joblib.dump(model_knn,'gender_class_1.pkl')"
   ]
  },
  {
   "cell_type": "code",
   "execution_count": null,
   "metadata": {},
   "outputs": [],
   "source": []
  }
 ],
 "metadata": {
  "kernelspec": {
   "display_name": "Python 3",
   "language": "python",
   "name": "python3"
  },
  "language_info": {
   "codemirror_mode": {
    "name": "ipython",
    "version": 3
   },
   "file_extension": ".py",
   "mimetype": "text/x-python",
   "name": "python",
   "nbconvert_exporter": "python",
   "pygments_lexer": "ipython3",
   "version": "3.6.8"
  }
 },
 "nbformat": 4,
 "nbformat_minor": 2
}
